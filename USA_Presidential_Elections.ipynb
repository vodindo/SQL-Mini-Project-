{
  "nbformat": 4,
  "nbformat_minor": 0,
  "metadata": {
    "colab": {
      "name": "USA Presidential Elections.ipynb",
      "provenance": [],
      "collapsed_sections": [],
      "authorship_tag": "ABX9TyN6H5lbc8HZZ2Nt5B+BUnCC",
      "include_colab_link": true
    },
    "kernelspec": {
      "name": "python3",
      "display_name": "Python 3"
    },
    "language_info": {
      "name": "python"
    }
  },
  "cells": [
    {
      "cell_type": "markdown",
      "metadata": {
        "id": "view-in-github",
        "colab_type": "text"
      },
      "source": [
        "<a href=\"https://colab.research.google.com/github/vodindo/SQL-Mini-Project-/blob/main/USA_Presidential_Elections.ipynb\" target=\"_parent\"><img src=\"https://colab.research.google.com/assets/colab-badge.svg\" alt=\"Open In Colab\"/></a>"
      ]
    },
    {
      "cell_type": "code",
      "metadata": {
        "colab": {
          "base_uri": "https://localhost:8080/",
          "height": 35
        },
        "id": "TP33nC7pvXnb",
        "outputId": "6cec5858-5581-440b-9e2c-e6925e8e21ab"
      },
      "source": [
        "# Loading the SQL extension to the environment \n",
        "%load_ext sql\n",
        "\n",
        "# We connect our memory sqlite database \n",
        "\n",
        "%sql sqlite://\n"
      ],
      "execution_count": 1,
      "outputs": [
        {
          "output_type": "execute_result",
          "data": {
            "application/vnd.google.colaboratory.intrinsic+json": {
              "type": "string"
            },
            "text/plain": [
              "'Connected: @None'"
            ]
          },
          "metadata": {
            "tags": []
          },
          "execution_count": 1
        }
      ]
    },
    {
      "cell_type": "code",
      "metadata": {
        "id": "rkhOBWhOxD3_"
      },
      "source": [
        "\n",
        "# Importing pandas \n",
        "import pandas as pd"
      ],
      "execution_count": 2,
      "outputs": []
    },
    {
      "cell_type": "code",
      "metadata": {
        "id": "1RX2OnlaxLO-"
      },
      "source": [
        "# We load the Grand electors by state dataset\n",
        "\n",
        "with open ('GrandElectors_by_state.csv', 'r') as f:\n",
        "  GrandElectors = pd.read_csv(f, index_col=0, encoding='utf-8')"
      ],
      "execution_count": 3,
      "outputs": []
    },
    {
      "cell_type": "code",
      "metadata": {
        "colab": {
          "base_uri": "https://localhost:8080/",
          "height": 234
        },
        "id": "5e2psVZcxcPX",
        "outputId": "98f7c131-1b5e-492a-f108-e7caaa35ddf1"
      },
      "source": [
        "# Removing any similar table existing in our database\n",
        "\n",
        "# Then we preview \n",
        "%sql DROP TABLE IF EXISTS GrandElectors;\n",
        "%sql PERSIST GrandElectors;\n",
        "%sql SELECT * FROM GrandElectors limit 5"
      ],
      "execution_count": 4,
      "outputs": [
        {
          "output_type": "stream",
          "text": [
            " * sqlite://\n",
            "Done.\n",
            " * sqlite://\n",
            " * sqlite://\n",
            "Done.\n"
          ],
          "name": "stdout"
        },
        {
          "output_type": "execute_result",
          "data": {
            "text/html": [
              "<table>\n",
              "    <thead>\n",
              "        <tr>\n",
              "            <th>State</th>\n",
              "            <th>GrandElectors</th>\n",
              "        </tr>\n",
              "    </thead>\n",
              "    <tbody>\n",
              "        <tr>\n",
              "            <td>Alabama</td>\n",
              "            <td>9</td>\n",
              "        </tr>\n",
              "        <tr>\n",
              "            <td>Alaska</td>\n",
              "            <td>3</td>\n",
              "        </tr>\n",
              "        <tr>\n",
              "            <td>Arizona</td>\n",
              "            <td>11</td>\n",
              "        </tr>\n",
              "        <tr>\n",
              "            <td>Arkansas</td>\n",
              "            <td>6</td>\n",
              "        </tr>\n",
              "        <tr>\n",
              "            <td>California</td>\n",
              "            <td>55</td>\n",
              "        </tr>\n",
              "    </tbody>\n",
              "</table>"
            ],
            "text/plain": [
              "[('Alabama', 9),\n",
              " ('Alaska', 3),\n",
              " ('Arizona', 11),\n",
              " ('Arkansas', 6),\n",
              " ('California', 55)]"
            ]
          },
          "metadata": {
            "tags": []
          },
          "execution_count": 4
        }
      ]
    },
    {
      "cell_type": "code",
      "metadata": {
        "id": "wltL2A5Pyt8H"
      },
      "source": [
        "# We equally Load the population by state dataset\n",
        "with open ('Population_by_state.csv', 'r') as f:\n",
        "  Population = pd.read_csv(f, index_col=0, encoding='utf-8')"
      ],
      "execution_count": 5,
      "outputs": []
    },
    {
      "cell_type": "code",
      "metadata": {
        "colab": {
          "base_uri": "https://localhost:8080/",
          "height": 234
        },
        "id": "LTCLqOgdy65V",
        "outputId": "889b8c61-55f1-46f8-95f5-f2c75f782633"
      },
      "source": [
        "# We then remove any similar tables and preview \n",
        "\n",
        "\n",
        "%sql DROP TABLE IF EXISTS Population;\n",
        "%sql PERSIST Population;\n",
        "%sql SELECT * FROM Population limit 5"
      ],
      "execution_count": 6,
      "outputs": [
        {
          "output_type": "stream",
          "text": [
            " * sqlite://\n",
            "Done.\n",
            " * sqlite://\n",
            " * sqlite://\n",
            "Done.\n"
          ],
          "name": "stdout"
        },
        {
          "output_type": "execute_result",
          "data": {
            "text/html": [
              "<table>\n",
              "    <thead>\n",
              "        <tr>\n",
              "            <th>State</th>\n",
              "            <th>Population</th>\n",
              "        </tr>\n",
              "    </thead>\n",
              "    <tbody>\n",
              "        <tr>\n",
              "            <td>CALIFORNIA</td>\n",
              "            <td>39144818</td>\n",
              "        </tr>\n",
              "        <tr>\n",
              "            <td>TEXAS</td>\n",
              "            <td>27469114</td>\n",
              "        </tr>\n",
              "        <tr>\n",
              "            <td>FLORIDA</td>\n",
              "            <td>20271272</td>\n",
              "        </tr>\n",
              "        <tr>\n",
              "            <td>NEW YORK</td>\n",
              "            <td>19795791</td>\n",
              "        </tr>\n",
              "        <tr>\n",
              "            <td>ILLINOIS</td>\n",
              "            <td>12859995</td>\n",
              "        </tr>\n",
              "    </tbody>\n",
              "</table>"
            ],
            "text/plain": [
              "[('CALIFORNIA', 39144818),\n",
              " ('TEXAS', 27469114),\n",
              " ('FLORIDA', 20271272),\n",
              " ('NEW YORK', 19795791),\n",
              " ('ILLINOIS', 12859995)]"
            ]
          },
          "metadata": {
            "tags": []
          },
          "execution_count": 6
        }
      ]
    },
    {
      "cell_type": "code",
      "metadata": {
        "colab": {
          "base_uri": "https://localhost:8080/"
        },
        "id": "ATiCJEWjzKil",
        "outputId": "cf64db4c-dd07-421e-b704-b61b332636d7"
      },
      "source": [
        "# We convert ALL the States from GenderElectors to UPPER case\n",
        " \n",
        "%%sql\n",
        "UPDATE GrandElectors\n",
        "SET State = UPPER(State)\n"
      ],
      "execution_count": 7,
      "outputs": [
        {
          "output_type": "stream",
          "text": [
            " * sqlite://\n",
            "51 rows affected.\n"
          ],
          "name": "stdout"
        },
        {
          "output_type": "execute_result",
          "data": {
            "text/plain": [
              "[]"
            ]
          },
          "metadata": {
            "tags": []
          },
          "execution_count": 7
        }
      ]
    },
    {
      "cell_type": "code",
      "metadata": {
        "colab": {
          "base_uri": "https://localhost:8080/",
          "height": 182
        },
        "id": "uSA0MgD90ow1",
        "outputId": "2538b8ca-348a-4d5c-e2dd-32c66cb01c4b"
      },
      "source": [
        "# Preview to check on the changes\n",
        "%%sql\n",
        "SELECT * from GrandElectors limit 5"
      ],
      "execution_count": 8,
      "outputs": [
        {
          "output_type": "stream",
          "text": [
            " * sqlite://\n",
            "Done.\n"
          ],
          "name": "stdout"
        },
        {
          "output_type": "execute_result",
          "data": {
            "text/html": [
              "<table>\n",
              "    <thead>\n",
              "        <tr>\n",
              "            <th>State</th>\n",
              "            <th>GrandElectors</th>\n",
              "        </tr>\n",
              "    </thead>\n",
              "    <tbody>\n",
              "        <tr>\n",
              "            <td>ALABAMA</td>\n",
              "            <td>9</td>\n",
              "        </tr>\n",
              "        <tr>\n",
              "            <td>ALASKA</td>\n",
              "            <td>3</td>\n",
              "        </tr>\n",
              "        <tr>\n",
              "            <td>ARIZONA</td>\n",
              "            <td>11</td>\n",
              "        </tr>\n",
              "        <tr>\n",
              "            <td>ARKANSAS</td>\n",
              "            <td>6</td>\n",
              "        </tr>\n",
              "        <tr>\n",
              "            <td>CALIFORNIA</td>\n",
              "            <td>55</td>\n",
              "        </tr>\n",
              "    </tbody>\n",
              "</table>"
            ],
            "text/plain": [
              "[('ALABAMA', 9),\n",
              " ('ALASKA', 3),\n",
              " ('ARIZONA', 11),\n",
              " ('ARKANSAS', 6),\n",
              " ('CALIFORNIA', 55)]"
            ]
          },
          "metadata": {
            "tags": []
          },
          "execution_count": 8
        }
      ]
    },
    {
      "cell_type": "code",
      "metadata": {
        "id": "cWU_OR9-1Ap_",
        "colab": {
          "base_uri": "https://localhost:8080/"
        },
        "outputId": "7bf8c284-f99b-4453-cd72-88ddea53f77e"
      },
      "source": [
        "# Join the two tables on the State key\n",
        "# We do this by creating another table called JOINTTABLE \n",
        "%%sql\n",
        "CREATE TABLE JOINTTABLE AS SELECT State, Population, GrandElectors \n",
        "FROM (SELECT * FROM Population\n",
        "INNER JOIN GrandElectors ON \n",
        "Population.State = GrandElectors.State)"
      ],
      "execution_count": 9,
      "outputs": [
        {
          "output_type": "stream",
          "text": [
            " * sqlite://\n",
            "Done.\n"
          ],
          "name": "stdout"
        },
        {
          "output_type": "execute_result",
          "data": {
            "text/plain": [
              "[]"
            ]
          },
          "metadata": {
            "tags": []
          },
          "execution_count": 9
        }
      ]
    },
    {
      "cell_type": "code",
      "metadata": {
        "colab": {
          "base_uri": "https://localhost:8080/",
          "height": 182
        },
        "id": "13qXufO33WN9",
        "outputId": "9f31b97f-d369-4eaa-8e8f-34a372e0fbd6"
      },
      "source": [
        "%%sql\n",
        "SELECT * FROM JOINTTABLE limit 5"
      ],
      "execution_count": 10,
      "outputs": [
        {
          "output_type": "stream",
          "text": [
            " * sqlite://\n",
            "Done.\n"
          ],
          "name": "stdout"
        },
        {
          "output_type": "execute_result",
          "data": {
            "text/html": [
              "<table>\n",
              "    <thead>\n",
              "        <tr>\n",
              "            <th>State</th>\n",
              "            <th>Population</th>\n",
              "            <th>GrandElectors</th>\n",
              "        </tr>\n",
              "    </thead>\n",
              "    <tbody>\n",
              "        <tr>\n",
              "            <td>CALIFORNIA</td>\n",
              "            <td>39144818</td>\n",
              "            <td>55</td>\n",
              "        </tr>\n",
              "        <tr>\n",
              "            <td>TEXAS</td>\n",
              "            <td>27469114</td>\n",
              "            <td>38</td>\n",
              "        </tr>\n",
              "        <tr>\n",
              "            <td>FLORIDA</td>\n",
              "            <td>20271272</td>\n",
              "            <td>29</td>\n",
              "        </tr>\n",
              "        <tr>\n",
              "            <td>NEW YORK</td>\n",
              "            <td>19795791</td>\n",
              "            <td>29</td>\n",
              "        </tr>\n",
              "        <tr>\n",
              "            <td>ILLINOIS</td>\n",
              "            <td>12859995</td>\n",
              "            <td>20</td>\n",
              "        </tr>\n",
              "    </tbody>\n",
              "</table>"
            ],
            "text/plain": [
              "[('CALIFORNIA', 39144818, 55),\n",
              " ('TEXAS', 27469114, 38),\n",
              " ('FLORIDA', 20271272, 29),\n",
              " ('NEW YORK', 19795791, 29),\n",
              " ('ILLINOIS', 12859995, 20)]"
            ]
          },
          "metadata": {
            "tags": []
          },
          "execution_count": 10
        }
      ]
    },
    {
      "cell_type": "code",
      "metadata": {
        "colab": {
          "base_uri": "https://localhost:8080/"
        },
        "id": "VlfchJfO3nMk",
        "outputId": "e12a22aa-02a7-463b-899f-f6c29722befb"
      },
      "source": [
        "# We change the name \"District of Columbia\" state to \"DC\"\n",
        "%%sql\n",
        "UPDATE JOINTTABLE \n",
        "SET State = \"DC\"\n",
        "WHERE State = \"DISTRICT OF COLUMBIA\""
      ],
      "execution_count": 11,
      "outputs": [
        {
          "output_type": "stream",
          "text": [
            " * sqlite://\n",
            "1 rows affected.\n"
          ],
          "name": "stdout"
        },
        {
          "output_type": "execute_result",
          "data": {
            "text/plain": [
              "[]"
            ]
          },
          "metadata": {
            "tags": []
          },
          "execution_count": 11
        }
      ]
    },
    {
      "cell_type": "code",
      "metadata": {
        "colab": {
          "base_uri": "https://localhost:8080/"
        },
        "id": "3yflcSX64QDs",
        "outputId": "2c545d82-e5ad-4a2d-8b16-a23d185b4dd1"
      },
      "source": [
        "\n",
        "# create a new column to display that ratio between the number of grand electors and the population\n",
        "%%sql\n",
        "ALTER TABLE JOINTTABLE ADD RatioGP float(20)"
      ],
      "execution_count": 12,
      "outputs": [
        {
          "output_type": "stream",
          "text": [
            " * sqlite://\n",
            "Done.\n"
          ],
          "name": "stdout"
        },
        {
          "output_type": "execute_result",
          "data": {
            "text/plain": [
              "[]"
            ]
          },
          "metadata": {
            "tags": []
          },
          "execution_count": 12
        }
      ]
    },
    {
      "cell_type": "code",
      "metadata": {
        "colab": {
          "base_uri": "https://localhost:8080/",
          "height": 182
        },
        "id": "CIrw9tvh5WRr",
        "outputId": "8c64c8e1-266d-4bdf-d831-27dd3ed3725a"
      },
      "source": [
        "# Preview the table with added column\n",
        "%%sql\n",
        "SELECT * FROM JOINTTABLE limit 5"
      ],
      "execution_count": 13,
      "outputs": [
        {
          "output_type": "stream",
          "text": [
            " * sqlite://\n",
            "Done.\n"
          ],
          "name": "stdout"
        },
        {
          "output_type": "execute_result",
          "data": {
            "text/html": [
              "<table>\n",
              "    <thead>\n",
              "        <tr>\n",
              "            <th>State</th>\n",
              "            <th>Population</th>\n",
              "            <th>GrandElectors</th>\n",
              "            <th>RatioGP</th>\n",
              "        </tr>\n",
              "    </thead>\n",
              "    <tbody>\n",
              "        <tr>\n",
              "            <td>CALIFORNIA</td>\n",
              "            <td>39144818</td>\n",
              "            <td>55</td>\n",
              "            <td>None</td>\n",
              "        </tr>\n",
              "        <tr>\n",
              "            <td>TEXAS</td>\n",
              "            <td>27469114</td>\n",
              "            <td>38</td>\n",
              "            <td>None</td>\n",
              "        </tr>\n",
              "        <tr>\n",
              "            <td>FLORIDA</td>\n",
              "            <td>20271272</td>\n",
              "            <td>29</td>\n",
              "            <td>None</td>\n",
              "        </tr>\n",
              "        <tr>\n",
              "            <td>NEW YORK</td>\n",
              "            <td>19795791</td>\n",
              "            <td>29</td>\n",
              "            <td>None</td>\n",
              "        </tr>\n",
              "        <tr>\n",
              "            <td>ILLINOIS</td>\n",
              "            <td>12859995</td>\n",
              "            <td>20</td>\n",
              "            <td>None</td>\n",
              "        </tr>\n",
              "    </tbody>\n",
              "</table>"
            ],
            "text/plain": [
              "[('CALIFORNIA', 39144818, 55, None),\n",
              " ('TEXAS', 27469114, 38, None),\n",
              " ('FLORIDA', 20271272, 29, None),\n",
              " ('NEW YORK', 19795791, 29, None),\n",
              " ('ILLINOIS', 12859995, 20, None)]"
            ]
          },
          "metadata": {
            "tags": []
          },
          "execution_count": 13
        }
      ]
    },
    {
      "cell_type": "code",
      "metadata": {
        "colab": {
          "base_uri": "https://localhost:8080/",
          "height": 199
        },
        "id": "16wgMc115hnD",
        "outputId": "b50b86f8-b537-4e41-9e8c-4aee3bb0c8a9"
      },
      "source": [
        "# We Update the RatioGP column with the calculated ratio which is Population/GrandElectors\n",
        "# this is then ordered by the states in decreasing ratio \n",
        "\n",
        "%%sql\n",
        "UPDATE JOINTTABLE\n",
        "SET \"RatioGP\" = Population/GrandElectors;\n",
        "SELECT * FROM JOINTTABLE \n",
        "ORDER BY RatioGP ASC limit 5;"
      ],
      "execution_count": 14,
      "outputs": [
        {
          "output_type": "stream",
          "text": [
            " * sqlite://\n",
            "51 rows affected.\n",
            "Done.\n"
          ],
          "name": "stdout"
        },
        {
          "output_type": "execute_result",
          "data": {
            "text/html": [
              "<table>\n",
              "    <thead>\n",
              "        <tr>\n",
              "            <th>State</th>\n",
              "            <th>Population</th>\n",
              "            <th>GrandElectors</th>\n",
              "            <th>RatioGP</th>\n",
              "        </tr>\n",
              "    </thead>\n",
              "    <tbody>\n",
              "        <tr>\n",
              "            <td>WYOMING</td>\n",
              "            <td>586107</td>\n",
              "            <td>3</td>\n",
              "            <td>195369.0</td>\n",
              "        </tr>\n",
              "        <tr>\n",
              "            <td>VERMONT</td>\n",
              "            <td>626042</td>\n",
              "            <td>3</td>\n",
              "            <td>208680.0</td>\n",
              "        </tr>\n",
              "        <tr>\n",
              "            <td>DC</td>\n",
              "            <td>672228</td>\n",
              "            <td>3</td>\n",
              "            <td>224076.0</td>\n",
              "        </tr>\n",
              "        <tr>\n",
              "            <td>ALASKA</td>\n",
              "            <td>738432</td>\n",
              "            <td>3</td>\n",
              "            <td>246144.0</td>\n",
              "        </tr>\n",
              "        <tr>\n",
              "            <td>NORTH DAKOTA</td>\n",
              "            <td>756927</td>\n",
              "            <td>3</td>\n",
              "            <td>252309.0</td>\n",
              "        </tr>\n",
              "    </tbody>\n",
              "</table>"
            ],
            "text/plain": [
              "[('WYOMING', 586107, 3, 195369.0),\n",
              " ('VERMONT', 626042, 3, 208680.0),\n",
              " ('DC', 672228, 3, 224076.0),\n",
              " ('ALASKA', 738432, 3, 246144.0),\n",
              " ('NORTH DAKOTA', 756927, 3, 252309.0)]"
            ]
          },
          "metadata": {
            "tags": []
          },
          "execution_count": 14
        }
      ]
    },
    {
      "cell_type": "code",
      "metadata": {
        "colab": {
          "base_uri": "https://localhost:8080/",
          "height": 97
        },
        "id": "h2m5jgRp-04i",
        "outputId": "42857155-486b-4a4e-8b15-9119dd8f9b01"
      },
      "source": [
        "# Running total of Grand Electors in the sorted list.\n",
        "\n",
        "%%sql\n",
        "SELECT SUM(GrandElectors) from JOINTTABLE"
      ],
      "execution_count": 15,
      "outputs": [
        {
          "output_type": "stream",
          "text": [
            " * sqlite://\n",
            "Done.\n"
          ],
          "name": "stdout"
        },
        {
          "output_type": "execute_result",
          "data": {
            "text/html": [
              "<table>\n",
              "    <thead>\n",
              "        <tr>\n",
              "            <th>SUM(GrandElectors)</th>\n",
              "        </tr>\n",
              "    </thead>\n",
              "    <tbody>\n",
              "        <tr>\n",
              "            <td>538</td>\n",
              "        </tr>\n",
              "    </tbody>\n",
              "</table>"
            ],
            "text/plain": [
              "[(538,)]"
            ]
          },
          "metadata": {
            "tags": []
          },
          "execution_count": 15
        }
      ]
    },
    {
      "cell_type": "code",
      "metadata": {
        "colab": {
          "base_uri": "https://localhost:8080/",
          "height": 97
        },
        "id": "s8EU90En_nHJ",
        "outputId": "c37287da-4de0-46eb-8c24-82b402063225"
      },
      "source": [
        "# computing half of the total of Grand Electors overall (in the whole country):\n",
        "\n",
        "%%sql\n",
        "SELECT SUM(GrandElectors)/2 from JOINTTABLE"
      ],
      "execution_count": 16,
      "outputs": [
        {
          "output_type": "stream",
          "text": [
            " * sqlite://\n",
            "Done.\n"
          ],
          "name": "stdout"
        },
        {
          "output_type": "execute_result",
          "data": {
            "text/html": [
              "<table>\n",
              "    <thead>\n",
              "        <tr>\n",
              "            <th>SUM(GrandElectors)/2</th>\n",
              "        </tr>\n",
              "    </thead>\n",
              "    <tbody>\n",
              "        <tr>\n",
              "            <td>269</td>\n",
              "        </tr>\n",
              "    </tbody>\n",
              "</table>"
            ],
            "text/plain": [
              "[(269,)]"
            ]
          },
          "metadata": {
            "tags": []
          },
          "execution_count": 16
        }
      ]
    },
    {
      "cell_type": "code",
      "metadata": {
        "colab": {
          "base_uri": "https://localhost:8080/",
          "height": 1000
        },
        "id": "C3yi_S_4BFcR",
        "outputId": "de173d88-5d4b-41f9-86e1-7faa6b73d7b3"
      },
      "source": [
        "%%sql\n",
        "SELECT State,GrandElectors,Population,\n",
        "ROUND(GrandElectors*100.0/Population,6) AS Ratio\n",
        "FROM JOINTTABLE\n",
        "ORDER BY RATIO DESC;"
      ],
      "execution_count": 17,
      "outputs": [
        {
          "output_type": "stream",
          "text": [
            " * sqlite://\n",
            "Done.\n"
          ],
          "name": "stdout"
        },
        {
          "output_type": "execute_result",
          "data": {
            "text/html": [
              "<table>\n",
              "    <thead>\n",
              "        <tr>\n",
              "            <th>State</th>\n",
              "            <th>GrandElectors</th>\n",
              "            <th>Population</th>\n",
              "            <th>Ratio</th>\n",
              "        </tr>\n",
              "    </thead>\n",
              "    <tbody>\n",
              "        <tr>\n",
              "            <td>WYOMING</td>\n",
              "            <td>3</td>\n",
              "            <td>586107</td>\n",
              "            <td>0.000512</td>\n",
              "        </tr>\n",
              "        <tr>\n",
              "            <td>VERMONT</td>\n",
              "            <td>3</td>\n",
              "            <td>626042</td>\n",
              "            <td>0.000479</td>\n",
              "        </tr>\n",
              "        <tr>\n",
              "            <td>DC</td>\n",
              "            <td>3</td>\n",
              "            <td>672228</td>\n",
              "            <td>0.000446</td>\n",
              "        </tr>\n",
              "        <tr>\n",
              "            <td>ALASKA</td>\n",
              "            <td>3</td>\n",
              "            <td>738432</td>\n",
              "            <td>0.000406</td>\n",
              "        </tr>\n",
              "        <tr>\n",
              "            <td>NORTH DAKOTA</td>\n",
              "            <td>3</td>\n",
              "            <td>756927</td>\n",
              "            <td>0.000396</td>\n",
              "        </tr>\n",
              "        <tr>\n",
              "            <td>RHODE ISLAND</td>\n",
              "            <td>4</td>\n",
              "            <td>1056298</td>\n",
              "            <td>0.000379</td>\n",
              "        </tr>\n",
              "        <tr>\n",
              "            <td>SOUTH DAKOTA</td>\n",
              "            <td>3</td>\n",
              "            <td>858469</td>\n",
              "            <td>0.000349</td>\n",
              "        </tr>\n",
              "        <tr>\n",
              "            <td>DELAWARE</td>\n",
              "            <td>3</td>\n",
              "            <td>945934</td>\n",
              "            <td>0.000317</td>\n",
              "        </tr>\n",
              "        <tr>\n",
              "            <td>NEW HAMPSHIRE</td>\n",
              "            <td>4</td>\n",
              "            <td>1330608</td>\n",
              "            <td>0.000301</td>\n",
              "        </tr>\n",
              "        <tr>\n",
              "            <td>MAINE</td>\n",
              "            <td>4</td>\n",
              "            <td>1329328</td>\n",
              "            <td>0.000301</td>\n",
              "        </tr>\n",
              "        <tr>\n",
              "            <td>MONTANA</td>\n",
              "            <td>3</td>\n",
              "            <td>1032949</td>\n",
              "            <td>0.00029</td>\n",
              "        </tr>\n",
              "        <tr>\n",
              "            <td>HAWAII</td>\n",
              "            <td>4</td>\n",
              "            <td>1431603</td>\n",
              "            <td>0.000279</td>\n",
              "        </tr>\n",
              "        <tr>\n",
              "            <td>WEST VIRGINIA</td>\n",
              "            <td>5</td>\n",
              "            <td>1844128</td>\n",
              "            <td>0.000271</td>\n",
              "        </tr>\n",
              "        <tr>\n",
              "            <td>NEBRASKA</td>\n",
              "            <td>5</td>\n",
              "            <td>1896190</td>\n",
              "            <td>0.000264</td>\n",
              "        </tr>\n",
              "        <tr>\n",
              "            <td>IDAHO</td>\n",
              "            <td>4</td>\n",
              "            <td>1654930</td>\n",
              "            <td>0.000242</td>\n",
              "        </tr>\n",
              "        <tr>\n",
              "            <td>NEW MEXICO</td>\n",
              "            <td>5</td>\n",
              "            <td>2085109</td>\n",
              "            <td>0.00024</td>\n",
              "        </tr>\n",
              "        <tr>\n",
              "            <td>NEVADA</td>\n",
              "            <td>6</td>\n",
              "            <td>2890845</td>\n",
              "            <td>0.000208</td>\n",
              "        </tr>\n",
              "        <tr>\n",
              "            <td>KANSAS</td>\n",
              "            <td>6</td>\n",
              "            <td>2911641</td>\n",
              "            <td>0.000206</td>\n",
              "        </tr>\n",
              "        <tr>\n",
              "            <td>MISSISSIPPI</td>\n",
              "            <td>6</td>\n",
              "            <td>2992333</td>\n",
              "            <td>0.000201</td>\n",
              "        </tr>\n",
              "        <tr>\n",
              "            <td>ARKANSAS</td>\n",
              "            <td>6</td>\n",
              "            <td>2978204</td>\n",
              "            <td>0.000201</td>\n",
              "        </tr>\n",
              "        <tr>\n",
              "            <td>UTAH</td>\n",
              "            <td>6</td>\n",
              "            <td>2995919</td>\n",
              "            <td>0.0002</td>\n",
              "        </tr>\n",
              "        <tr>\n",
              "            <td>CONNECTICUT</td>\n",
              "            <td>7</td>\n",
              "            <td>3590886</td>\n",
              "            <td>0.000195</td>\n",
              "        </tr>\n",
              "        <tr>\n",
              "            <td>IOWA</td>\n",
              "            <td>6</td>\n",
              "            <td>3123899</td>\n",
              "            <td>0.000192</td>\n",
              "        </tr>\n",
              "        <tr>\n",
              "            <td>ALABAMA</td>\n",
              "            <td>9</td>\n",
              "            <td>4858979</td>\n",
              "            <td>0.000185</td>\n",
              "        </tr>\n",
              "        <tr>\n",
              "            <td>SOUTH CAROLINA</td>\n",
              "            <td>9</td>\n",
              "            <td>4896146</td>\n",
              "            <td>0.000184</td>\n",
              "        </tr>\n",
              "        <tr>\n",
              "            <td>MINNESOTA</td>\n",
              "            <td>10</td>\n",
              "            <td>5489594</td>\n",
              "            <td>0.000182</td>\n",
              "        </tr>\n",
              "        <tr>\n",
              "            <td>KENTUCKY</td>\n",
              "            <td>8</td>\n",
              "            <td>4425092</td>\n",
              "            <td>0.000181</td>\n",
              "        </tr>\n",
              "        <tr>\n",
              "            <td>OKLAHOMA</td>\n",
              "            <td>7</td>\n",
              "            <td>3911338</td>\n",
              "            <td>0.000179</td>\n",
              "        </tr>\n",
              "        <tr>\n",
              "            <td>OREGON</td>\n",
              "            <td>7</td>\n",
              "            <td>4028977</td>\n",
              "            <td>0.000174</td>\n",
              "        </tr>\n",
              "        <tr>\n",
              "            <td>WISCONSIN</td>\n",
              "            <td>10</td>\n",
              "            <td>5771337</td>\n",
              "            <td>0.000173</td>\n",
              "        </tr>\n",
              "        <tr>\n",
              "            <td>LOUISIANA</td>\n",
              "            <td>8</td>\n",
              "            <td>4670724</td>\n",
              "            <td>0.000171</td>\n",
              "        </tr>\n",
              "        <tr>\n",
              "            <td>WASHINGTON</td>\n",
              "            <td>12</td>\n",
              "            <td>7170351</td>\n",
              "            <td>0.000167</td>\n",
              "        </tr>\n",
              "        <tr>\n",
              "            <td>TENNESSEE</td>\n",
              "            <td>11</td>\n",
              "            <td>6600299</td>\n",
              "            <td>0.000167</td>\n",
              "        </tr>\n",
              "        <tr>\n",
              "            <td>INDIANA</td>\n",
              "            <td>11</td>\n",
              "            <td>6619680</td>\n",
              "            <td>0.000166</td>\n",
              "        </tr>\n",
              "        <tr>\n",
              "            <td>MARYLAND</td>\n",
              "            <td>10</td>\n",
              "            <td>6006401</td>\n",
              "            <td>0.000166</td>\n",
              "        </tr>\n",
              "        <tr>\n",
              "            <td>COLORADO</td>\n",
              "            <td>9</td>\n",
              "            <td>5456574</td>\n",
              "            <td>0.000165</td>\n",
              "        </tr>\n",
              "        <tr>\n",
              "            <td>MISSOURI</td>\n",
              "            <td>10</td>\n",
              "            <td>6083672</td>\n",
              "            <td>0.000164</td>\n",
              "        </tr>\n",
              "        <tr>\n",
              "            <td>MASSACHUSETTS</td>\n",
              "            <td>11</td>\n",
              "            <td>6794422</td>\n",
              "            <td>0.000162</td>\n",
              "        </tr>\n",
              "        <tr>\n",
              "            <td>MICHIGAN</td>\n",
              "            <td>16</td>\n",
              "            <td>9922576</td>\n",
              "            <td>0.000161</td>\n",
              "        </tr>\n",
              "        <tr>\n",
              "            <td>ARIZONA</td>\n",
              "            <td>11</td>\n",
              "            <td>6828065</td>\n",
              "            <td>0.000161</td>\n",
              "        </tr>\n",
              "        <tr>\n",
              "            <td>GEORGIA</td>\n",
              "            <td>16</td>\n",
              "            <td>10214860</td>\n",
              "            <td>0.000157</td>\n",
              "        </tr>\n",
              "        <tr>\n",
              "            <td>ILLINOIS</td>\n",
              "            <td>20</td>\n",
              "            <td>12859995</td>\n",
              "            <td>0.000156</td>\n",
              "        </tr>\n",
              "        <tr>\n",
              "            <td>PENNSYLVANIA</td>\n",
              "            <td>20</td>\n",
              "            <td>12802503</td>\n",
              "            <td>0.000156</td>\n",
              "        </tr>\n",
              "        <tr>\n",
              "            <td>NEW JERSEY</td>\n",
              "            <td>14</td>\n",
              "            <td>8958013</td>\n",
              "            <td>0.000156</td>\n",
              "        </tr>\n",
              "        <tr>\n",
              "            <td>OHIO</td>\n",
              "            <td>18</td>\n",
              "            <td>11613423</td>\n",
              "            <td>0.000155</td>\n",
              "        </tr>\n",
              "        <tr>\n",
              "            <td>VIRGINIA</td>\n",
              "            <td>13</td>\n",
              "            <td>8382993</td>\n",
              "            <td>0.000155</td>\n",
              "        </tr>\n",
              "        <tr>\n",
              "            <td>NORTH CAROLINA</td>\n",
              "            <td>15</td>\n",
              "            <td>10042802</td>\n",
              "            <td>0.000149</td>\n",
              "        </tr>\n",
              "        <tr>\n",
              "            <td>NEW YORK</td>\n",
              "            <td>29</td>\n",
              "            <td>19795791</td>\n",
              "            <td>0.000146</td>\n",
              "        </tr>\n",
              "        <tr>\n",
              "            <td>FLORIDA</td>\n",
              "            <td>29</td>\n",
              "            <td>20271272</td>\n",
              "            <td>0.000143</td>\n",
              "        </tr>\n",
              "        <tr>\n",
              "            <td>CALIFORNIA</td>\n",
              "            <td>55</td>\n",
              "            <td>39144818</td>\n",
              "            <td>0.000141</td>\n",
              "        </tr>\n",
              "        <tr>\n",
              "            <td>TEXAS</td>\n",
              "            <td>38</td>\n",
              "            <td>27469114</td>\n",
              "            <td>0.000138</td>\n",
              "        </tr>\n",
              "    </tbody>\n",
              "</table>"
            ],
            "text/plain": [
              "[('WYOMING', 3, 586107, 0.000512),\n",
              " ('VERMONT', 3, 626042, 0.000479),\n",
              " ('DC', 3, 672228, 0.000446),\n",
              " ('ALASKA', 3, 738432, 0.000406),\n",
              " ('NORTH DAKOTA', 3, 756927, 0.000396),\n",
              " ('RHODE ISLAND', 4, 1056298, 0.000379),\n",
              " ('SOUTH DAKOTA', 3, 858469, 0.000349),\n",
              " ('DELAWARE', 3, 945934, 0.000317),\n",
              " ('NEW HAMPSHIRE', 4, 1330608, 0.000301),\n",
              " ('MAINE', 4, 1329328, 0.000301),\n",
              " ('MONTANA', 3, 1032949, 0.00029),\n",
              " ('HAWAII', 4, 1431603, 0.000279),\n",
              " ('WEST VIRGINIA', 5, 1844128, 0.000271),\n",
              " ('NEBRASKA', 5, 1896190, 0.000264),\n",
              " ('IDAHO', 4, 1654930, 0.000242),\n",
              " ('NEW MEXICO', 5, 2085109, 0.00024),\n",
              " ('NEVADA', 6, 2890845, 0.000208),\n",
              " ('KANSAS', 6, 2911641, 0.000206),\n",
              " ('MISSISSIPPI', 6, 2992333, 0.000201),\n",
              " ('ARKANSAS', 6, 2978204, 0.000201),\n",
              " ('UTAH', 6, 2995919, 0.0002),\n",
              " ('CONNECTICUT', 7, 3590886, 0.000195),\n",
              " ('IOWA', 6, 3123899, 0.000192),\n",
              " ('ALABAMA', 9, 4858979, 0.000185),\n",
              " ('SOUTH CAROLINA', 9, 4896146, 0.000184),\n",
              " ('MINNESOTA', 10, 5489594, 0.000182),\n",
              " ('KENTUCKY', 8, 4425092, 0.000181),\n",
              " ('OKLAHOMA', 7, 3911338, 0.000179),\n",
              " ('OREGON', 7, 4028977, 0.000174),\n",
              " ('WISCONSIN', 10, 5771337, 0.000173),\n",
              " ('LOUISIANA', 8, 4670724, 0.000171),\n",
              " ('WASHINGTON', 12, 7170351, 0.000167),\n",
              " ('TENNESSEE', 11, 6600299, 0.000167),\n",
              " ('INDIANA', 11, 6619680, 0.000166),\n",
              " ('MARYLAND', 10, 6006401, 0.000166),\n",
              " ('COLORADO', 9, 5456574, 0.000165),\n",
              " ('MISSOURI', 10, 6083672, 0.000164),\n",
              " ('MASSACHUSETTS', 11, 6794422, 0.000162),\n",
              " ('MICHIGAN', 16, 9922576, 0.000161),\n",
              " ('ARIZONA', 11, 6828065, 0.000161),\n",
              " ('GEORGIA', 16, 10214860, 0.000157),\n",
              " ('ILLINOIS', 20, 12859995, 0.000156),\n",
              " ('PENNSYLVANIA', 20, 12802503, 0.000156),\n",
              " ('NEW JERSEY', 14, 8958013, 0.000156),\n",
              " ('OHIO', 18, 11613423, 0.000155),\n",
              " ('VIRGINIA', 13, 8382993, 0.000155),\n",
              " ('NORTH CAROLINA', 15, 10042802, 0.000149),\n",
              " ('NEW YORK', 29, 19795791, 0.000146),\n",
              " ('FLORIDA', 29, 20271272, 0.000143),\n",
              " ('CALIFORNIA', 55, 39144818, 0.000141),\n",
              " ('TEXAS', 38, 27469114, 0.000138)]"
            ]
          },
          "metadata": {
            "tags": []
          },
          "execution_count": 17
        }
      ]
    },
    {
      "cell_type": "code",
      "metadata": {
        "colab": {
          "base_uri": "https://localhost:8080/",
          "height": 1000
        },
        "id": "8jDK9N62BTYt",
        "outputId": "8217a2f5-87f1-4cb7-e776-3b0cf3ba0a24"
      },
      "source": [
        "%%sql\n",
        "SELECT T1.State, T1.GrandElectors, SUM(T2.GrandElectors) RunningTotal\n",
        "FROM JOINTTABLE T1, JOINTTABLE T2\n",
        "WHERE T1.GrandElectors <= T2.GrandElectors \n",
        "GROUP BY T1.State, T1.GrandElectors\n",
        "ORDER BY T1.GrandElectors DESC, T1.State DESC;"
      ],
      "execution_count": 18,
      "outputs": [
        {
          "output_type": "stream",
          "text": [
            " * sqlite://\n",
            "Done.\n"
          ],
          "name": "stdout"
        },
        {
          "output_type": "execute_result",
          "data": {
            "text/html": [
              "<table>\n",
              "    <thead>\n",
              "        <tr>\n",
              "            <th>State</th>\n",
              "            <th>GrandElectors</th>\n",
              "            <th>RunningTotal</th>\n",
              "        </tr>\n",
              "    </thead>\n",
              "    <tbody>\n",
              "        <tr>\n",
              "            <td>CALIFORNIA</td>\n",
              "            <td>55</td>\n",
              "            <td>55</td>\n",
              "        </tr>\n",
              "        <tr>\n",
              "            <td>TEXAS</td>\n",
              "            <td>38</td>\n",
              "            <td>93</td>\n",
              "        </tr>\n",
              "        <tr>\n",
              "            <td>NEW YORK</td>\n",
              "            <td>29</td>\n",
              "            <td>151</td>\n",
              "        </tr>\n",
              "        <tr>\n",
              "            <td>FLORIDA</td>\n",
              "            <td>29</td>\n",
              "            <td>151</td>\n",
              "        </tr>\n",
              "        <tr>\n",
              "            <td>PENNSYLVANIA</td>\n",
              "            <td>20</td>\n",
              "            <td>191</td>\n",
              "        </tr>\n",
              "        <tr>\n",
              "            <td>ILLINOIS</td>\n",
              "            <td>20</td>\n",
              "            <td>191</td>\n",
              "        </tr>\n",
              "        <tr>\n",
              "            <td>OHIO</td>\n",
              "            <td>18</td>\n",
              "            <td>209</td>\n",
              "        </tr>\n",
              "        <tr>\n",
              "            <td>MICHIGAN</td>\n",
              "            <td>16</td>\n",
              "            <td>241</td>\n",
              "        </tr>\n",
              "        <tr>\n",
              "            <td>GEORGIA</td>\n",
              "            <td>16</td>\n",
              "            <td>241</td>\n",
              "        </tr>\n",
              "        <tr>\n",
              "            <td>NORTH CAROLINA</td>\n",
              "            <td>15</td>\n",
              "            <td>256</td>\n",
              "        </tr>\n",
              "        <tr>\n",
              "            <td>NEW JERSEY</td>\n",
              "            <td>14</td>\n",
              "            <td>270</td>\n",
              "        </tr>\n",
              "        <tr>\n",
              "            <td>VIRGINIA</td>\n",
              "            <td>13</td>\n",
              "            <td>283</td>\n",
              "        </tr>\n",
              "        <tr>\n",
              "            <td>WASHINGTON</td>\n",
              "            <td>12</td>\n",
              "            <td>295</td>\n",
              "        </tr>\n",
              "        <tr>\n",
              "            <td>TENNESSEE</td>\n",
              "            <td>11</td>\n",
              "            <td>339</td>\n",
              "        </tr>\n",
              "        <tr>\n",
              "            <td>MASSACHUSETTS</td>\n",
              "            <td>11</td>\n",
              "            <td>339</td>\n",
              "        </tr>\n",
              "        <tr>\n",
              "            <td>INDIANA</td>\n",
              "            <td>11</td>\n",
              "            <td>339</td>\n",
              "        </tr>\n",
              "        <tr>\n",
              "            <td>ARIZONA</td>\n",
              "            <td>11</td>\n",
              "            <td>339</td>\n",
              "        </tr>\n",
              "        <tr>\n",
              "            <td>WISCONSIN</td>\n",
              "            <td>10</td>\n",
              "            <td>379</td>\n",
              "        </tr>\n",
              "        <tr>\n",
              "            <td>MISSOURI</td>\n",
              "            <td>10</td>\n",
              "            <td>379</td>\n",
              "        </tr>\n",
              "        <tr>\n",
              "            <td>MINNESOTA</td>\n",
              "            <td>10</td>\n",
              "            <td>379</td>\n",
              "        </tr>\n",
              "        <tr>\n",
              "            <td>MARYLAND</td>\n",
              "            <td>10</td>\n",
              "            <td>379</td>\n",
              "        </tr>\n",
              "        <tr>\n",
              "            <td>SOUTH CAROLINA</td>\n",
              "            <td>9</td>\n",
              "            <td>406</td>\n",
              "        </tr>\n",
              "        <tr>\n",
              "            <td>COLORADO</td>\n",
              "            <td>9</td>\n",
              "            <td>406</td>\n",
              "        </tr>\n",
              "        <tr>\n",
              "            <td>ALABAMA</td>\n",
              "            <td>9</td>\n",
              "            <td>406</td>\n",
              "        </tr>\n",
              "        <tr>\n",
              "            <td>LOUISIANA</td>\n",
              "            <td>8</td>\n",
              "            <td>422</td>\n",
              "        </tr>\n",
              "        <tr>\n",
              "            <td>KENTUCKY</td>\n",
              "            <td>8</td>\n",
              "            <td>422</td>\n",
              "        </tr>\n",
              "        <tr>\n",
              "            <td>OREGON</td>\n",
              "            <td>7</td>\n",
              "            <td>443</td>\n",
              "        </tr>\n",
              "        <tr>\n",
              "            <td>OKLAHOMA</td>\n",
              "            <td>7</td>\n",
              "            <td>443</td>\n",
              "        </tr>\n",
              "        <tr>\n",
              "            <td>CONNECTICUT</td>\n",
              "            <td>7</td>\n",
              "            <td>443</td>\n",
              "        </tr>\n",
              "        <tr>\n",
              "            <td>UTAH</td>\n",
              "            <td>6</td>\n",
              "            <td>479</td>\n",
              "        </tr>\n",
              "        <tr>\n",
              "            <td>NEVADA</td>\n",
              "            <td>6</td>\n",
              "            <td>479</td>\n",
              "        </tr>\n",
              "        <tr>\n",
              "            <td>MISSISSIPPI</td>\n",
              "            <td>6</td>\n",
              "            <td>479</td>\n",
              "        </tr>\n",
              "        <tr>\n",
              "            <td>KANSAS</td>\n",
              "            <td>6</td>\n",
              "            <td>479</td>\n",
              "        </tr>\n",
              "        <tr>\n",
              "            <td>IOWA</td>\n",
              "            <td>6</td>\n",
              "            <td>479</td>\n",
              "        </tr>\n",
              "        <tr>\n",
              "            <td>ARKANSAS</td>\n",
              "            <td>6</td>\n",
              "            <td>479</td>\n",
              "        </tr>\n",
              "        <tr>\n",
              "            <td>WEST VIRGINIA</td>\n",
              "            <td>5</td>\n",
              "            <td>494</td>\n",
              "        </tr>\n",
              "        <tr>\n",
              "            <td>NEW MEXICO</td>\n",
              "            <td>5</td>\n",
              "            <td>494</td>\n",
              "        </tr>\n",
              "        <tr>\n",
              "            <td>NEBRASKA</td>\n",
              "            <td>5</td>\n",
              "            <td>494</td>\n",
              "        </tr>\n",
              "        <tr>\n",
              "            <td>RHODE ISLAND</td>\n",
              "            <td>4</td>\n",
              "            <td>514</td>\n",
              "        </tr>\n",
              "        <tr>\n",
              "            <td>NEW HAMPSHIRE</td>\n",
              "            <td>4</td>\n",
              "            <td>514</td>\n",
              "        </tr>\n",
              "        <tr>\n",
              "            <td>MAINE</td>\n",
              "            <td>4</td>\n",
              "            <td>514</td>\n",
              "        </tr>\n",
              "        <tr>\n",
              "            <td>IDAHO</td>\n",
              "            <td>4</td>\n",
              "            <td>514</td>\n",
              "        </tr>\n",
              "        <tr>\n",
              "            <td>HAWAII</td>\n",
              "            <td>4</td>\n",
              "            <td>514</td>\n",
              "        </tr>\n",
              "        <tr>\n",
              "            <td>WYOMING</td>\n",
              "            <td>3</td>\n",
              "            <td>538</td>\n",
              "        </tr>\n",
              "        <tr>\n",
              "            <td>VERMONT</td>\n",
              "            <td>3</td>\n",
              "            <td>538</td>\n",
              "        </tr>\n",
              "        <tr>\n",
              "            <td>SOUTH DAKOTA</td>\n",
              "            <td>3</td>\n",
              "            <td>538</td>\n",
              "        </tr>\n",
              "        <tr>\n",
              "            <td>NORTH DAKOTA</td>\n",
              "            <td>3</td>\n",
              "            <td>538</td>\n",
              "        </tr>\n",
              "        <tr>\n",
              "            <td>MONTANA</td>\n",
              "            <td>3</td>\n",
              "            <td>538</td>\n",
              "        </tr>\n",
              "        <tr>\n",
              "            <td>DELAWARE</td>\n",
              "            <td>3</td>\n",
              "            <td>538</td>\n",
              "        </tr>\n",
              "        <tr>\n",
              "            <td>DC</td>\n",
              "            <td>3</td>\n",
              "            <td>538</td>\n",
              "        </tr>\n",
              "        <tr>\n",
              "            <td>ALASKA</td>\n",
              "            <td>3</td>\n",
              "            <td>538</td>\n",
              "        </tr>\n",
              "    </tbody>\n",
              "</table>"
            ],
            "text/plain": [
              "[('CALIFORNIA', 55, 55),\n",
              " ('TEXAS', 38, 93),\n",
              " ('NEW YORK', 29, 151),\n",
              " ('FLORIDA', 29, 151),\n",
              " ('PENNSYLVANIA', 20, 191),\n",
              " ('ILLINOIS', 20, 191),\n",
              " ('OHIO', 18, 209),\n",
              " ('MICHIGAN', 16, 241),\n",
              " ('GEORGIA', 16, 241),\n",
              " ('NORTH CAROLINA', 15, 256),\n",
              " ('NEW JERSEY', 14, 270),\n",
              " ('VIRGINIA', 13, 283),\n",
              " ('WASHINGTON', 12, 295),\n",
              " ('TENNESSEE', 11, 339),\n",
              " ('MASSACHUSETTS', 11, 339),\n",
              " ('INDIANA', 11, 339),\n",
              " ('ARIZONA', 11, 339),\n",
              " ('WISCONSIN', 10, 379),\n",
              " ('MISSOURI', 10, 379),\n",
              " ('MINNESOTA', 10, 379),\n",
              " ('MARYLAND', 10, 379),\n",
              " ('SOUTH CAROLINA', 9, 406),\n",
              " ('COLORADO', 9, 406),\n",
              " ('ALABAMA', 9, 406),\n",
              " ('LOUISIANA', 8, 422),\n",
              " ('KENTUCKY', 8, 422),\n",
              " ('OREGON', 7, 443),\n",
              " ('OKLAHOMA', 7, 443),\n",
              " ('CONNECTICUT', 7, 443),\n",
              " ('UTAH', 6, 479),\n",
              " ('NEVADA', 6, 479),\n",
              " ('MISSISSIPPI', 6, 479),\n",
              " ('KANSAS', 6, 479),\n",
              " ('IOWA', 6, 479),\n",
              " ('ARKANSAS', 6, 479),\n",
              " ('WEST VIRGINIA', 5, 494),\n",
              " ('NEW MEXICO', 5, 494),\n",
              " ('NEBRASKA', 5, 494),\n",
              " ('RHODE ISLAND', 4, 514),\n",
              " ('NEW HAMPSHIRE', 4, 514),\n",
              " ('MAINE', 4, 514),\n",
              " ('IDAHO', 4, 514),\n",
              " ('HAWAII', 4, 514),\n",
              " ('WYOMING', 3, 538),\n",
              " ('VERMONT', 3, 538),\n",
              " ('SOUTH DAKOTA', 3, 538),\n",
              " ('NORTH DAKOTA', 3, 538),\n",
              " ('MONTANA', 3, 538),\n",
              " ('DELAWARE', 3, 538),\n",
              " ('DC', 3, 538),\n",
              " ('ALASKA', 3, 538)]"
            ]
          },
          "metadata": {
            "tags": []
          },
          "execution_count": 18
        }
      ]
    }
  ]
}